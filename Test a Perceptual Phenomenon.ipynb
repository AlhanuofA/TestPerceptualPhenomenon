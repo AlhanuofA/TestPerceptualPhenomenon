{
 "cells": [
  {
   "cell_type": "markdown",
   "metadata": {},
   "source": [
    "### Analyzing the Stroop Effect\n",
    "Perform the analysis in the space below. Remember to follow [the instructions](https://docs.google.com/document/d/1-OkpZLjG_kX9J6LIQ5IltsqMzVWjh36QpnP2RYpVdPU/pub?embedded=True) and review the [project rubric](https://review.udacity.com/#!/rubrics/71/view) before submitting. Once you've completed the analysis and write-up, download this file as a PDF or HTML file, upload that PDF/HTML into the workspace here (click on the orange Jupyter icon in the upper left then Upload), then use the Submit Project button at the bottom of this page. This will create a zip file containing both this .ipynb doc and the PDF/HTML doc that will be submitted for your project.\n",
    "\n",
    "\n",
    "(1) What is the independent variable? What is the dependent variable?"
   ]
  },
  {
   "cell_type": "markdown",
   "metadata": {},
   "source": [
    "* Independent variable: whether the word and color are congruent or incongruent.\n",
    "* Dependent variable: the time period between seeing the word and stating the font color (for both congruent and incongruent)."
   ]
  },
  {
   "cell_type": "markdown",
   "metadata": {},
   "source": [
    "(2) What is an appropriate set of hypotheses for this task? Specify your null and alternative hypotheses, and clearly define any notation used. Justify your choices."
   ]
  },
  {
   "cell_type": "markdown",
   "metadata": {},
   "source": [
    "We have two groups congruent(number 1) and incongruent(number 2), the hypotheses are built around the average time for these groups.<br>\n",
    "<br>\n",
    "Here are our hypotheses:\n",
    "$$H_0: μ_{1} <= μ_{2}$$\n",
    "$$H_1: μ_{1} > μ_{2}$$\n",
    "\n",
    "**The null hypotheses ($H_0$)**:<br>\n",
    "The average population time($μ_{1}$) it takes to state the font color for congruent word is less than or equal the average time($μ_{2}$) for incongruent words.\n",
    "<br>\n",
    "**The alternative hypotheses ($H_1$)**:<br>\n",
    "The average population time($μ_{1}$) it takes to state the font color for congruent word is greater than the average time($μ_{2}$) for incongruent words."
   ]
  },
  {
   "cell_type": "markdown",
   "metadata": {},
   "source": [
    "(3) Report some descriptive statistics regarding this dataset. Include at least one measure of central tendency and at least one measure of variability. The name of the data file is 'stroopdata.csv'."
   ]
  },
  {
   "cell_type": "markdown",
   "metadata": {},
   "source": [
    "In this section descriptive statistics will be performed for measure of center and measure of spread(variability)."
   ]
  },
  {
   "cell_type": "code",
   "execution_count": 1,
   "metadata": {},
   "outputs": [],
   "source": [
    "# import necessary libraries\n",
    "import pandas as pd\n",
    "import numpy as np \n",
    "\n",
    "# load and explore the csv file\n",
    "df = pd.read_csv('stroopdata.csv')\n",
    "#df.info() # df.head()\n",
    "#df.shape[0], df.shape[1]\n",
    "#df.nunique()"
   ]
  },
  {
   "cell_type": "markdown",
   "metadata": {},
   "source": [
    "The dataframe is small (only 24 rows and two columns), and has no null value."
   ]
  },
  {
   "cell_type": "code",
   "execution_count": 2,
   "metadata": {},
   "outputs": [
    {
     "data": {
      "text/plain": [
       "Congruent      14.051125\n",
       "Incongruent    22.015917\n",
       "dtype: float64"
      ]
     },
     "execution_count": 2,
     "metadata": {},
     "output_type": "execute_result"
    }
   ],
   "source": [
    "# Now its time for statistics!\n",
    "# Measure of center:\n",
    "# Mean:\n",
    "df.mean()"
   ]
  },
  {
   "cell_type": "code",
   "execution_count": 3,
   "metadata": {},
   "outputs": [
    {
     "data": {
      "text/plain": [
       "Congruent      14.3565\n",
       "Incongruent    21.0175\n",
       "dtype: float64"
      ]
     },
     "execution_count": 3,
     "metadata": {},
     "output_type": "execute_result"
    }
   ],
   "source": [
    "#Median:\n",
    "df.median()"
   ]
  },
  {
   "cell_type": "markdown",
   "metadata": {},
   "source": [
    "The average(mean) time and the median for congruent group are less than the incongruent group."
   ]
  },
  {
   "cell_type": "code",
   "execution_count": 4,
   "metadata": {},
   "outputs": [
    {
     "data": {
      "text/plain": [
       "Congruent      3.559358\n",
       "Incongruent    4.797057\n",
       "dtype: float64"
      ]
     },
     "execution_count": 4,
     "metadata": {},
     "output_type": "execute_result"
    }
   ],
   "source": [
    "#Measure of spread:\n",
    "#Standard deviation:\n",
    "df.std()"
   ]
  },
  {
   "cell_type": "code",
   "execution_count": 5,
   "metadata": {},
   "outputs": [
    {
     "data": {
      "text/plain": [
       "Congruent      13.698\n",
       "Incongruent    19.568\n",
       "dtype: float64"
      ]
     },
     "execution_count": 5,
     "metadata": {},
     "output_type": "execute_result"
    }
   ],
   "source": [
    "#Range:\n",
    "df.max() - df.min()"
   ]
  },
  {
   "cell_type": "markdown",
   "metadata": {},
   "source": [
    "The standard deviation and range for congruent group are less than the incongruent group.<br>\n",
    "These results proves that we can't reject the null hypothese at this stage and we need to investigate more.<br>\n",
    "**Note:** describe method can be used to generate all the above results, but I prefer breaking it down."
   ]
  },
  {
   "cell_type": "markdown",
   "metadata": {},
   "source": [
    "(4) Provide one or two visualizations that show the distribution of the sample data. Write one or two sentences noting what you observe about the plot or plots."
   ]
  },
  {
   "cell_type": "code",
   "execution_count": 6,
   "metadata": {},
   "outputs": [
    {
     "data": {
      "image/png": "[encoded data removed]",
      "text/plain": [
       "<matplotlib.figure.Figure at 0x7fb60f152630>"
      ]
     },
     "metadata": {
      "needs_background": "light"
     },
     "output_type": "display_data"
    }
   ],
   "source": [
    "# import matpoltlib for visualizations\n",
    "import matplotlib.pyplot as plt\n",
    "#The magic line\n",
    "% matplotlib inline \n",
    "\n",
    "# hist digram to visualize the time period for each group:\n",
    "df.Congruent.hist(alpha = 0.7, label = 'Congruent', \n",
    "                    figsize = (10, 10), color = '#006CB2')\n",
    "df.Incongruent.hist(alpha = 0.7, label = 'Incongruent', \n",
    "                      figsize = (10, 10), color = '#FFA321')\n",
    "plt.title('Congruent vs. Incongruent Time Period')\n",
    "plt.legend()\n",
    "plt.xlabel('Time Period', fontsize = 13)\n",
    "plt.show()"
   ]
  },
  {
   "cell_type": "markdown",
   "metadata": {},
   "source": [
    "The hist shows the same result as the previous results:\n",
    "* There are two outliers in incongruent group with 34 and 35.\n",
    "* The congruent range is smaller than incongruent group."
   ]
  },
  {
   "cell_type": "code",
   "execution_count": 7,
   "metadata": {},
   "outputs": [
    {
     "data": {
      "image/png": "[encoded data removed]",
      "text/plain": [
       "<matplotlib.figure.Figure at 0x7fb60aacb240>"
      ]
     },
     "metadata": {
      "needs_background": "light"
     },
     "output_type": "display_data"
    }
   ],
   "source": [
    "# scatter plots to visualize the mean for each group:\n",
    "plt.scatter(x = df['Congruent'].mean(), y = df['Congruent'].count(), marker = '*',\n",
    "            color='#006CB2', label = 'Congruent Mean')\n",
    "plt.scatter(x = df['Incongruent'].mean(), y = df['Incongruent'].count(), marker = '*',\n",
    "            color='#FFA321', label = 'Incongruent Mean')\n",
    "plt.title('Congruent Mean vs. Incongruent Mean')\n",
    "plt.legend()\n",
    "plt.xlabel('Mean', fontsize = 13)\n",
    "plt.xlabel('No of rows', fontsize = 13)\n",
    "plt.show()"
   ]
  },
  {
   "cell_type": "markdown",
   "metadata": {},
   "source": [
    "The scatter plots shows the same result:\n",
    "* congruent mean = 14.\n",
    "* incngruent mean = 22."
   ]
  },
  {
   "cell_type": "markdown",
   "metadata": {},
   "source": [
    "(5)  Now, perform the statistical test and report your results. What is your confidence level or Type I error associated with your test? What is your conclusion regarding the hypotheses you set up? Did the results match up with your expectations? **Hint:**  Think about what is being measured on each individual, and what statistic best captures how an individual reacts in each environment."
   ]
  },
  {
   "cell_type": "markdown",
   "metadata": {},
   "source": [
    "Our hypotheses:\n",
    "$$H_0: μ_{1} - μ_{2} <= 0$$\n",
    "$$H_1: μ_{1} - μ_{2} > 0$$"
   ]
  },
  {
   "cell_type": "code",
   "execution_count": 8,
   "metadata": {},
   "outputs": [],
   "source": [
    "# Simulate a sample\n",
    "boot_means = []\n",
    "for _ in range(10000):\n",
    "    bootsamp = df.sample(200, replace = True)\n",
    "    boot_means.append(bootsamp['Congruent'].mean() - bootsamp['Incongruent'].mean())\n",
    "actual_diff = df['Congruent'].mean() - df['Incongruent'].mean()\n",
    "boot_means = np.array(boot_means)\n",
    "null_vals = np.random.normal(0, boot_means.std(), boot_means.size)"
   ]
  },
  {
   "cell_type": "code",
   "execution_count": 9,
   "metadata": {},
   "outputs": [
    {
     "data": {
      "text/plain": [
       "(-8.6356863749999953, -7.3205764999999978)"
      ]
     },
     "execution_count": 9,
     "metadata": {},
     "output_type": "execute_result"
    }
   ],
   "source": [
    "# Confidence interval for 95%\n",
    "np.percentile(boot_means, 2.5), np.percentile(boot_means, 97.5)"
   ]
  },
  {
   "cell_type": "code",
   "execution_count": 10,
   "metadata": {},
   "outputs": [
    {
     "data": {
      "text/plain": [
       "0.49990000000000001"
      ]
     },
     "execution_count": 10,
     "metadata": {},
     "output_type": "execute_result"
    }
   ],
   "source": [
    "actual_diff = df['Congruent'].mean() - df['Incongruent'].mean()\n",
    "boot_means = np.array(boot_means)\n",
    "null_vals = np.random.normal(0, boot_means.std(), boot_means.size)\n",
    "\n",
    "(boot_means > actual_diff).mean()"
   ]
  },
  {
   "cell_type": "markdown",
   "metadata": {},
   "source": [
    "The p-value is large (larger than type I error $\\alpha$ which equals 0.05), thus we can't reject the null hypotheses($H_0$).<br>\n",
    "The average time for group one is less than or equal the second group. Also, the result in part 2 specifies that the average time for group one is less than group two."
   ]
  },
  {
   "cell_type": "markdown",
   "metadata": {},
   "source": [
    "(6) Optional: What do you think is responsible for the effects observed? Can you think of an alternative or similar task that would result in a similar effect? Some research about the problem will be helpful for thinking about these two questions!"
   ]
  },
  {
   "cell_type": "markdown",
   "metadata": {},
   "source": [
    "--write answer here--"
   ]
  },
  {
   "cell_type": "code",
   "execution_count": 11,
   "metadata": {},
   "outputs": [
    {
     "data": {
      "text/plain": [
       "255"
      ]
     },
     "execution_count": 11,
     "metadata": {},
     "output_type": "execute_result"
    }
   ],
   "source": [
    "from subprocess import call\n",
    "call(['python', '-m', 'nbconvert', 'Analyze_ab_test_results_notebook.ipynb'])"
   ]
  },
  {
   "cell_type": "code",
   "execution_count": null,
   "metadata": {},
   "outputs": [],
   "source": []
  }
 ],
 "metadata": {
  "kernelspec": {
   "display_name": "Python 3",
   "language": "python",
   "name": "python3"
  },
  "language_info": {
   "codemirror_mode": {
    "name": "ipython",
    "version": 3
   },
   "file_extension": ".py",
   "mimetype": "text/x-python",
   "name": "python",
   "nbconvert_exporter": "python",
   "pygments_lexer": "ipython3",
   "version": "3.6.3"
  }
 },
 "nbformat": 4,
 "nbformat_minor": 2
}
